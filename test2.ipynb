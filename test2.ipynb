{
 "cells": [
  {
   "cell_type": "code",
   "execution_count": 8,
   "metadata": {},
   "outputs": [],
   "source": [
    "import pandas as pd\n",
    "import matplotlib.pyplot as plt"
   ]
  },
  {
   "cell_type": "code",
   "execution_count": 9,
   "metadata": {},
   "outputs": [
    {
     "data": {
      "text/html": [
       "<div>\n",
       "<style scoped>\n",
       "    .dataframe tbody tr th:only-of-type {\n",
       "        vertical-align: middle;\n",
       "    }\n",
       "\n",
       "    .dataframe tbody tr th {\n",
       "        vertical-align: top;\n",
       "    }\n",
       "\n",
       "    .dataframe thead th {\n",
       "        text-align: right;\n",
       "    }\n",
       "</style>\n",
       "<table border=\"1\" class=\"dataframe\">\n",
       "  <thead>\n",
       "    <tr style=\"text-align: right;\">\n",
       "      <th></th>\n",
       "      <th>자격증</th>\n",
       "      <th>성별</th>\n",
       "      <th>신장(cm)</th>\n",
       "      <th>몸무게(kg)</th>\n",
       "      <th>10살 성적</th>\n",
       "      <th>12살 성적</th>\n",
       "      <th>대학성적</th>\n",
       "      <th>공부시간</th>\n",
       "      <th>희망연봉</th>\n",
       "      <th>학위만족도</th>\n",
       "      <th>...</th>\n",
       "      <th>B.com ISM</th>\n",
       "      <th>BCA</th>\n",
       "      <th>Commerce</th>\n",
       "      <th>영화</th>\n",
       "      <th>책읽기</th>\n",
       "      <th>운동</th>\n",
       "      <th>비디오게임</th>\n",
       "      <th>아무때나</th>\n",
       "      <th>아침</th>\n",
       "      <th>저녁</th>\n",
       "    </tr>\n",
       "  </thead>\n",
       "  <tbody>\n",
       "    <tr>\n",
       "      <th>0</th>\n",
       "      <td>0</td>\n",
       "      <td>1</td>\n",
       "      <td>100.0</td>\n",
       "      <td>58.0</td>\n",
       "      <td>79.0</td>\n",
       "      <td>65.0</td>\n",
       "      <td>80.0</td>\n",
       "      <td>0</td>\n",
       "      <td>40000</td>\n",
       "      <td>0</td>\n",
       "      <td>...</td>\n",
       "      <td>0.0</td>\n",
       "      <td>1.0</td>\n",
       "      <td>0.0</td>\n",
       "      <td>0.0</td>\n",
       "      <td>0.0</td>\n",
       "      <td>0.0</td>\n",
       "      <td>1.0</td>\n",
       "      <td>0.0</td>\n",
       "      <td>1.0</td>\n",
       "      <td>0.0</td>\n",
       "    </tr>\n",
       "  </tbody>\n",
       "</table>\n",
       "<p>1 rows × 27 columns</p>\n",
       "</div>"
      ],
      "text/plain": [
       "   자격증  성별  신장(cm)  몸무게(kg)  10살 성적  12살 성적  대학성적  공부시간   희망연봉  학위만족도  ...  \\\n",
       "0    0   1   100.0     58.0    79.0    65.0  80.0     0  40000      0  ...   \n",
       "\n",
       "   B.com ISM  BCA  Commerce   영화  책읽기   운동  비디오게임  아무때나   아침   저녁  \n",
       "0        0.0  1.0       0.0  0.0  0.0  0.0    1.0   0.0  1.0  0.0  \n",
       "\n",
       "[1 rows x 27 columns]"
      ]
     },
     "execution_count": 9,
     "metadata": {},
     "output_type": "execute_result"
    }
   ],
   "source": [
    "df = pd.read_csv('data/Student_Behaviour_kor3.csv')\n",
    "df.head(1)"
   ]
  },
  {
   "cell_type": "code",
   "execution_count": 12,
   "metadata": {},
   "outputs": [
    {
     "data": {
      "text/plain": [
       "2.4376085964724954"
      ]
     },
     "execution_count": 12,
     "metadata": {},
     "output_type": "execute_result"
    }
   ],
   "source": [
    "# 남자 키 / 몸무게\n",
    "df[df['성별'] == 1]['신장(cm)'].mean() / df[df['성별'] == 1]['몸무게(kg)'].mean()"
   ]
  },
  {
   "cell_type": "code",
   "execution_count": 14,
   "metadata": {},
   "outputs": [
    {
     "data": {
      "text/plain": [
       "160.97435897435898"
      ]
     },
     "execution_count": 14,
     "metadata": {},
     "output_type": "execute_result"
    }
   ],
   "source": [
    "df[df['성별'] == 1]['신장(cm)'].mean()"
   ]
  },
  {
   "cell_type": "code",
   "execution_count": 16,
   "metadata": {},
   "outputs": [
    {
     "data": {
      "text/plain": [
       "66.03782051282052"
      ]
     },
     "execution_count": 16,
     "metadata": {},
     "output_type": "execute_result"
    }
   ],
   "source": [
    "df[df['성별'] == 1]['몸무게(kg)'].mean()"
   ]
  },
  {
   "cell_type": "code",
   "execution_count": 15,
   "metadata": {},
   "outputs": [
    {
     "data": {
      "text/plain": [
       "152.21794871794873"
      ]
     },
     "execution_count": 15,
     "metadata": {},
     "output_type": "execute_result"
    }
   ],
   "source": [
    "df[df['성별'] == 0]['신장(cm)'].mean()"
   ]
  },
  {
   "cell_type": "code",
   "execution_count": 17,
   "metadata": {},
   "outputs": [
    {
     "data": {
      "text/plain": [
       "50.57692307692308"
      ]
     },
     "execution_count": 17,
     "metadata": {},
     "output_type": "execute_result"
    }
   ],
   "source": [
    "df[df['성별'] == 0]['몸무게(kg)'].mean()"
   ]
  },
  {
   "cell_type": "code",
   "execution_count": 13,
   "metadata": {},
   "outputs": [
    {
     "data": {
      "text/plain": [
       "3.009632446134347"
      ]
     },
     "execution_count": 13,
     "metadata": {},
     "output_type": "execute_result"
    }
   ],
   "source": [
    "# 여자 키 / 몸무게\n",
    "df[df['성별'] == 0]['신장(cm)'].mean() / df[df['성별'] == 0]['몸무게(kg)'].mean()"
   ]
  },
  {
   "cell_type": "code",
   "execution_count": 11,
   "metadata": {},
   "outputs": [
    {
     "name": "stderr",
     "output_type": "stream",
     "text": [
      "C:\\Users\\Joon\\AppData\\Roaming\\Python\\Python39\\site-packages\\IPython\\core\\pylabtools.py:152: UserWarning: Glyph 53412 (\\N{HANGUL SYLLABLE KI}) missing from current font.\n",
      "  fig.canvas.print_figure(bytes_io, **kw)\n",
      "C:\\Users\\Joon\\AppData\\Roaming\\Python\\Python39\\site-packages\\IPython\\core\\pylabtools.py:152: UserWarning: Glyph 45224 (\\N{HANGUL SYLLABLE NAM}) missing from current font.\n",
      "  fig.canvas.print_figure(bytes_io, **kw)\n",
      "C:\\Users\\Joon\\AppData\\Roaming\\Python\\Python39\\site-packages\\IPython\\core\\pylabtools.py:152: UserWarning: Glyph 51088 (\\N{HANGUL SYLLABLE JA}) missing from current font.\n",
      "  fig.canvas.print_figure(bytes_io, **kw)\n",
      "C:\\Users\\Joon\\AppData\\Roaming\\Python\\Python39\\site-packages\\IPython\\core\\pylabtools.py:152: UserWarning: Glyph 47800 (\\N{HANGUL SYLLABLE MOM}) missing from current font.\n",
      "  fig.canvas.print_figure(bytes_io, **kw)\n",
      "C:\\Users\\Joon\\AppData\\Roaming\\Python\\Python39\\site-packages\\IPython\\core\\pylabtools.py:152: UserWarning: Glyph 47924 (\\N{HANGUL SYLLABLE MU}) missing from current font.\n",
      "  fig.canvas.print_figure(bytes_io, **kw)\n",
      "C:\\Users\\Joon\\AppData\\Roaming\\Python\\Python39\\site-packages\\IPython\\core\\pylabtools.py:152: UserWarning: Glyph 44172 (\\N{HANGUL SYLLABLE GE}) missing from current font.\n",
      "  fig.canvas.print_figure(bytes_io, **kw)\n"
     ]
    },
    {
     "data": {
      "image/png": "[encoded data removed]",
      "text/plain": [
       "<Figure size 640x480 with 1 Axes>"
      ]
     },
     "metadata": {},
     "output_type": "display_data"
    }
   ],
   "source": [
    "plt.plot(df[df['성별'] == 1]['몸무게(kg)'].values, df[df['성별'] == 1]['신장(cm)'].values)\n",
    "plt.title('남자')\n",
    "plt.xlabel('몸무게')\n",
    "plt.ylabel('키')\n",
    "plt.show()"
   ]
  },
  {
   "cell_type": "code",
   "execution_count": null,
   "metadata": {},
   "outputs": [],
   "source": [
    "fig = plt.figure()\n",
    "plt.title('여자')\n",
    "plt.xlabel('몸무게')\n",
    "plt.ylabel('키')\n",
    "plt.show()"
   ]
  },
  {
   "cell_type": "code",
   "execution_count": 28,
   "metadata": {},
   "outputs": [],
   "source": [
    "import pandas as pd"
   ]
  },
  {
   "cell_type": "code",
   "execution_count": 61,
   "metadata": {},
   "outputs": [
    {
     "data": {
      "text/html": [
       "<div>\n",
       "<style scoped>\n",
       "    .dataframe tbody tr th:only-of-type {\n",
       "        vertical-align: middle;\n",
       "    }\n",
       "\n",
       "    .dataframe tbody tr th {\n",
       "        vertical-align: top;\n",
       "    }\n",
       "\n",
       "    .dataframe thead th {\n",
       "        text-align: right;\n",
       "    }\n",
       "</style>\n",
       "<table border=\"1\" class=\"dataframe\">\n",
       "  <thead>\n",
       "    <tr style=\"text-align: right;\">\n",
       "      <th></th>\n",
       "      <th>자격증</th>\n",
       "      <th>성별</th>\n",
       "      <th>학과</th>\n",
       "      <th>신장(cm)</th>\n",
       "      <th>몸무게(kg)</th>\n",
       "      <th>10살 성적</th>\n",
       "      <th>12살 성적</th>\n",
       "      <th>대학성적</th>\n",
       "      <th>취미</th>\n",
       "      <th>공부시간</th>\n",
       "      <th>공부 시간대</th>\n",
       "      <th>희망연봉</th>\n",
       "      <th>학위만족도</th>\n",
       "      <th>학위기반 취업고려(%)</th>\n",
       "      <th>미디어 이용시간</th>\n",
       "      <th>왕복통학시간</th>\n",
       "      <th>스트레스 지수</th>\n",
       "      <th>자산상황</th>\n",
       "      <th>아르바이트 여부</th>\n",
       "    </tr>\n",
       "  </thead>\n",
       "  <tbody>\n",
       "    <tr>\n",
       "      <th>0</th>\n",
       "      <td>No</td>\n",
       "      <td>남자</td>\n",
       "      <td>BCA</td>\n",
       "      <td>100.0</td>\n",
       "      <td>58.0</td>\n",
       "      <td>79.0</td>\n",
       "      <td>65.00</td>\n",
       "      <td>80.0</td>\n",
       "      <td>비디오게임</td>\n",
       "      <td>~ 0.5</td>\n",
       "      <td>아침</td>\n",
       "      <td>40000</td>\n",
       "      <td>No</td>\n",
       "      <td>50</td>\n",
       "      <td>1.5 ~ 2</td>\n",
       "      <td>0.5 ~ 1</td>\n",
       "      <td>나쁨</td>\n",
       "      <td>나쁨</td>\n",
       "      <td>No</td>\n",
       "    </tr>\n",
       "    <tr>\n",
       "      <th>1</th>\n",
       "      <td>No</td>\n",
       "      <td>여자</td>\n",
       "      <td>BCA</td>\n",
       "      <td>90.0</td>\n",
       "      <td>40.0</td>\n",
       "      <td>70.0</td>\n",
       "      <td>80.00</td>\n",
       "      <td>70.0</td>\n",
       "      <td>영화</td>\n",
       "      <td>0.5 ~ 1</td>\n",
       "      <td>아침</td>\n",
       "      <td>15000</td>\n",
       "      <td>Yes</td>\n",
       "      <td>75</td>\n",
       "      <td>1 ~ 1.5</td>\n",
       "      <td>~ 0.5</td>\n",
       "      <td>나쁨</td>\n",
       "      <td>나쁨</td>\n",
       "      <td>No</td>\n",
       "    </tr>\n",
       "    <tr>\n",
       "      <th>2</th>\n",
       "      <td>Yes</td>\n",
       "      <td>남자</td>\n",
       "      <td>BCA</td>\n",
       "      <td>159.0</td>\n",
       "      <td>78.0</td>\n",
       "      <td>69.5</td>\n",
       "      <td>61.00</td>\n",
       "      <td>55.0</td>\n",
       "      <td>영화</td>\n",
       "      <td>1 ~ 2</td>\n",
       "      <td>아무때나</td>\n",
       "      <td>13000</td>\n",
       "      <td>Yes</td>\n",
       "      <td>50</td>\n",
       "      <td>2 ~</td>\n",
       "      <td>0.5 ~ 1</td>\n",
       "      <td>매우나쁨</td>\n",
       "      <td>나쁨</td>\n",
       "      <td>No</td>\n",
       "    </tr>\n",
       "    <tr>\n",
       "      <th>3</th>\n",
       "      <td>Yes</td>\n",
       "      <td>여자</td>\n",
       "      <td>BCA</td>\n",
       "      <td>147.0</td>\n",
       "      <td>20.0</td>\n",
       "      <td>70.0</td>\n",
       "      <td>59.00</td>\n",
       "      <td>58.0</td>\n",
       "      <td>책읽기</td>\n",
       "      <td>1 ~ 2</td>\n",
       "      <td>아무때나</td>\n",
       "      <td>1500000</td>\n",
       "      <td>No</td>\n",
       "      <td>50</td>\n",
       "      <td>1.5 ~ 2</td>\n",
       "      <td>~ 0.5</td>\n",
       "      <td>나쁨</td>\n",
       "      <td>좋음</td>\n",
       "      <td>No</td>\n",
       "    </tr>\n",
       "    <tr>\n",
       "      <th>4</th>\n",
       "      <td>No</td>\n",
       "      <td>남자</td>\n",
       "      <td>BCA</td>\n",
       "      <td>170.0</td>\n",
       "      <td>54.0</td>\n",
       "      <td>40.0</td>\n",
       "      <td>65.00</td>\n",
       "      <td>30.0</td>\n",
       "      <td>비디오게임</td>\n",
       "      <td>0.5 ~ 1</td>\n",
       "      <td>아침</td>\n",
       "      <td>50000</td>\n",
       "      <td>Yes</td>\n",
       "      <td>25</td>\n",
       "      <td>1.5 ~ 2</td>\n",
       "      <td>0.5 ~ 1</td>\n",
       "      <td>좋음</td>\n",
       "      <td>좋음</td>\n",
       "      <td>No</td>\n",
       "    </tr>\n",
       "    <tr>\n",
       "      <th>5</th>\n",
       "      <td>Yes</td>\n",
       "      <td>여자</td>\n",
       "      <td>BCA</td>\n",
       "      <td>139.0</td>\n",
       "      <td>33.0</td>\n",
       "      <td>90.0</td>\n",
       "      <td>75.00</td>\n",
       "      <td>70.0</td>\n",
       "      <td>영화</td>\n",
       "      <td>0.5 ~ 1</td>\n",
       "      <td>저녁</td>\n",
       "      <td>20000</td>\n",
       "      <td>Yes</td>\n",
       "      <td>50</td>\n",
       "      <td>0.5 ~ 1</td>\n",
       "      <td>~ 0.5</td>\n",
       "      <td>나쁨</td>\n",
       "      <td>좋음</td>\n",
       "      <td>No</td>\n",
       "    </tr>\n",
       "    <tr>\n",
       "      <th>6</th>\n",
       "      <td>Yes</td>\n",
       "      <td>남자</td>\n",
       "      <td>BCA</td>\n",
       "      <td>165.0</td>\n",
       "      <td>50.0</td>\n",
       "      <td>70.0</td>\n",
       "      <td>63.00</td>\n",
       "      <td>3.0</td>\n",
       "      <td>책읽기</td>\n",
       "      <td>1 ~ 2</td>\n",
       "      <td>아침</td>\n",
       "      <td>15000</td>\n",
       "      <td>Yes</td>\n",
       "      <td>75</td>\n",
       "      <td>1 ~ 1.5</td>\n",
       "      <td>1 ~ 1.5</td>\n",
       "      <td>좋음</td>\n",
       "      <td>좋음</td>\n",
       "      <td>No</td>\n",
       "    </tr>\n",
       "    <tr>\n",
       "      <th>7</th>\n",
       "      <td>No</td>\n",
       "      <td>남자</td>\n",
       "      <td>BCA</td>\n",
       "      <td>152.0</td>\n",
       "      <td>43.0</td>\n",
       "      <td>61.6</td>\n",
       "      <td>61.67</td>\n",
       "      <td>75.0</td>\n",
       "      <td>운동</td>\n",
       "      <td>1 ~ 2</td>\n",
       "      <td>아침</td>\n",
       "      <td>25000</td>\n",
       "      <td>Yes</td>\n",
       "      <td>50</td>\n",
       "      <td>1 ~ 1.5</td>\n",
       "      <td>1 ~ 1.5</td>\n",
       "      <td>좋음</td>\n",
       "      <td>좋음</td>\n",
       "      <td>No</td>\n",
       "    </tr>\n",
       "    <tr>\n",
       "      <th>8</th>\n",
       "      <td>No</td>\n",
       "      <td>남자</td>\n",
       "      <td>BCA</td>\n",
       "      <td>190.0</td>\n",
       "      <td>85.0</td>\n",
       "      <td>88.2</td>\n",
       "      <td>67.50</td>\n",
       "      <td>60.0</td>\n",
       "      <td>비디오게임</td>\n",
       "      <td>~ 0.5</td>\n",
       "      <td>아침</td>\n",
       "      <td>20000</td>\n",
       "      <td>Yes</td>\n",
       "      <td>75</td>\n",
       "      <td>1.5 ~ 2</td>\n",
       "      <td>1 ~ 1.5</td>\n",
       "      <td>나쁨</td>\n",
       "      <td>나쁨</td>\n",
       "      <td>No</td>\n",
       "    </tr>\n",
       "  </tbody>\n",
       "</table>\n",
       "</div>"
      ],
      "text/plain": [
       "   자격증  성별   학과  신장(cm)  몸무게(kg)  10살 성적  12살 성적  대학성적     취미     공부시간 공부 시간대  \\\n",
       "0   No  남자  BCA   100.0     58.0    79.0   65.00  80.0  비디오게임    ~ 0.5     아침   \n",
       "1   No  여자  BCA    90.0     40.0    70.0   80.00  70.0     영화  0.5 ~ 1     아침   \n",
       "2  Yes  남자  BCA   159.0     78.0    69.5   61.00  55.0     영화    1 ~ 2   아무때나   \n",
       "3  Yes  여자  BCA   147.0     20.0    70.0   59.00  58.0    책읽기    1 ~ 2   아무때나   \n",
       "4   No  남자  BCA   170.0     54.0    40.0   65.00  30.0  비디오게임  0.5 ~ 1     아침   \n",
       "5  Yes  여자  BCA   139.0     33.0    90.0   75.00  70.0     영화  0.5 ~ 1     저녁   \n",
       "6  Yes  남자  BCA   165.0     50.0    70.0   63.00   3.0    책읽기    1 ~ 2     아침   \n",
       "7   No  남자  BCA   152.0     43.0    61.6   61.67  75.0     운동    1 ~ 2     아침   \n",
       "8   No  남자  BCA   190.0     85.0    88.2   67.50  60.0  비디오게임    ~ 0.5     아침   \n",
       "\n",
       "      희망연봉 학위만족도  학위기반 취업고려(%) 미디어 이용시간   왕복통학시간 스트레스 지수 자산상황 아르바이트 여부  \n",
       "0    40000    No            50  1.5 ~ 2  0.5 ~ 1      나쁨   나쁨       No  \n",
       "1    15000   Yes            75  1 ~ 1.5    ~ 0.5      나쁨   나쁨       No  \n",
       "2    13000   Yes            50     2 ~   0.5 ~ 1    매우나쁨   나쁨       No  \n",
       "3  1500000    No            50  1.5 ~ 2    ~ 0.5      나쁨   좋음       No  \n",
       "4    50000   Yes            25  1.5 ~ 2  0.5 ~ 1      좋음   좋음       No  \n",
       "5    20000   Yes            50  0.5 ~ 1    ~ 0.5      나쁨   좋음       No  \n",
       "6    15000   Yes            75  1 ~ 1.5  1 ~ 1.5      좋음   좋음       No  \n",
       "7    25000   Yes            50  1 ~ 1.5  1 ~ 1.5      좋음   좋음       No  \n",
       "8    20000   Yes            75  1.5 ~ 2  1 ~ 1.5      나쁨   나쁨       No  "
      ]
     },
     "execution_count": 61,
     "metadata": {},
     "output_type": "execute_result"
    }
   ],
   "source": [
    "df = pd.read_csv(\"data/Student_Behaviour_kor.csv\")\n",
    "df.head(9)"
   ]
  },
  {
   "cell_type": "code",
   "execution_count": 59,
   "metadata": {},
   "outputs": [
    {
     "data": {
      "text/plain": [
       "67.5"
      ]
     },
     "execution_count": 59,
     "metadata": {},
     "output_type": "execute_result"
    }
   ],
   "source": [
    "df1.iloc[df[df['공부시간'] == ' ~ 0.5']['공부시간'].index[1], 5]"
   ]
  },
  {
   "cell_type": "code",
   "execution_count": 63,
   "metadata": {},
   "outputs": [],
   "source": [
    "df1['12살 성적'].values[df[df['공부시간'] == ' ~ 0.5']['공부시간'].index[0]]"
   ]
  },
  {
   "cell_type": "code",
   "execution_count": 57,
   "metadata": {},
   "outputs": [
    {
     "data": {
      "text/html": [
       "<div>\n",
       "<style scoped>\n",
       "    .dataframe tbody tr th:only-of-type {\n",
       "        vertical-align: middle;\n",
       "    }\n",
       "\n",
       "    .dataframe tbody tr th {\n",
       "        vertical-align: top;\n",
       "    }\n",
       "\n",
       "    .dataframe thead th {\n",
       "        text-align: right;\n",
       "    }\n",
       "</style>\n",
       "<table border=\"1\" class=\"dataframe\">\n",
       "  <thead>\n",
       "    <tr style=\"text-align: right;\">\n",
       "      <th></th>\n",
       "      <th>자격증</th>\n",
       "      <th>성별</th>\n",
       "      <th>신장(cm)</th>\n",
       "      <th>몸무게(kg)</th>\n",
       "      <th>10살 성적</th>\n",
       "      <th>12살 성적</th>\n",
       "      <th>대학성적</th>\n",
       "      <th>공부시간</th>\n",
       "      <th>희망연봉</th>\n",
       "      <th>학위만족도</th>\n",
       "      <th>...</th>\n",
       "      <th>자산상황</th>\n",
       "      <th>아르바이트 여부</th>\n",
       "      <th>B.com Accounting and Finance</th>\n",
       "      <th>B.com ISM</th>\n",
       "      <th>BCA</th>\n",
       "      <th>영화</th>\n",
       "      <th>책읽기</th>\n",
       "      <th>운동</th>\n",
       "      <th>아무때나</th>\n",
       "      <th>아침</th>\n",
       "    </tr>\n",
       "  </thead>\n",
       "  <tbody>\n",
       "    <tr>\n",
       "      <th>0</th>\n",
       "      <td>0</td>\n",
       "      <td>1</td>\n",
       "      <td>100.0</td>\n",
       "      <td>58.0</td>\n",
       "      <td>79.0</td>\n",
       "      <td>65.0</td>\n",
       "      <td>80.0</td>\n",
       "      <td>0</td>\n",
       "      <td>40000</td>\n",
       "      <td>0</td>\n",
       "      <td>...</td>\n",
       "      <td>1</td>\n",
       "      <td>0</td>\n",
       "      <td>0.0</td>\n",
       "      <td>0.0</td>\n",
       "      <td>1.0</td>\n",
       "      <td>0.0</td>\n",
       "      <td>0.0</td>\n",
       "      <td>0.0</td>\n",
       "      <td>0.0</td>\n",
       "      <td>1.0</td>\n",
       "    </tr>\n",
       "    <tr>\n",
       "      <th>1</th>\n",
       "      <td>0</td>\n",
       "      <td>0</td>\n",
       "      <td>90.0</td>\n",
       "      <td>40.0</td>\n",
       "      <td>70.0</td>\n",
       "      <td>80.0</td>\n",
       "      <td>70.0</td>\n",
       "      <td>1</td>\n",
       "      <td>15000</td>\n",
       "      <td>1</td>\n",
       "      <td>...</td>\n",
       "      <td>1</td>\n",
       "      <td>0</td>\n",
       "      <td>0.0</td>\n",
       "      <td>0.0</td>\n",
       "      <td>1.0</td>\n",
       "      <td>1.0</td>\n",
       "      <td>0.0</td>\n",
       "      <td>0.0</td>\n",
       "      <td>0.0</td>\n",
       "      <td>1.0</td>\n",
       "    </tr>\n",
       "    <tr>\n",
       "      <th>2</th>\n",
       "      <td>1</td>\n",
       "      <td>1</td>\n",
       "      <td>159.0</td>\n",
       "      <td>78.0</td>\n",
       "      <td>69.5</td>\n",
       "      <td>61.0</td>\n",
       "      <td>55.0</td>\n",
       "      <td>2</td>\n",
       "      <td>13000</td>\n",
       "      <td>1</td>\n",
       "      <td>...</td>\n",
       "      <td>1</td>\n",
       "      <td>0</td>\n",
       "      <td>0.0</td>\n",
       "      <td>0.0</td>\n",
       "      <td>1.0</td>\n",
       "      <td>1.0</td>\n",
       "      <td>0.0</td>\n",
       "      <td>0.0</td>\n",
       "      <td>1.0</td>\n",
       "      <td>0.0</td>\n",
       "    </tr>\n",
       "  </tbody>\n",
       "</table>\n",
       "<p>3 rows × 24 columns</p>\n",
       "</div>"
      ],
      "text/plain": [
       "   자격증  성별  신장(cm)  몸무게(kg)  10살 성적  12살 성적  대학성적  공부시간   희망연봉  학위만족도  ...  \\\n",
       "0    0   1   100.0     58.0    79.0    65.0  80.0     0  40000      0  ...   \n",
       "1    0   0    90.0     40.0    70.0    80.0  70.0     1  15000      1  ...   \n",
       "2    1   1   159.0     78.0    69.5    61.0  55.0     2  13000      1  ...   \n",
       "\n",
       "   자산상황  아르바이트 여부  B.com Accounting and Finance  B.com ISM  BCA   영화  책읽기  \\\n",
       "0     1         0                           0.0        0.0  1.0  0.0  0.0   \n",
       "1     1         0                           0.0        0.0  1.0  1.0  0.0   \n",
       "2     1         0                           0.0        0.0  1.0  1.0  0.0   \n",
       "\n",
       "    운동  아무때나   아침  \n",
       "0  0.0   0.0  1.0  \n",
       "1  0.0   0.0  1.0  \n",
       "2  0.0   1.0  0.0  \n",
       "\n",
       "[3 rows x 24 columns]"
      ]
     },
     "execution_count": 57,
     "metadata": {},
     "output_type": "execute_result"
    }
   ],
   "source": [
    "df1 = pd.read_csv(\"data/Student_Behaviour_kor3_1.csv\")\n",
    "df1.head(3)"
   ]
  },
  {
   "cell_type": "code",
   "execution_count": 32,
   "metadata": {},
   "outputs": [
    {
     "data": {
      "text/plain": [
       "Index(['자격증', '성별', '신장(cm)', '몸무게(kg)', '10살 성적', '12살 성적', '대학성적', '공부시간',\n",
       "       '희망연봉', '학위만족도', '학위기반 취업고려(%)', '미디어 이용시간', '왕복통학시간', '스트레스 지수',\n",
       "       '자산상황', '아르바이트 여부', 'B.com Accounting and Finance', 'B.com ISM', 'BCA',\n",
       "       '영화', '책읽기', '운동', '아무때나', '아침'],\n",
       "      dtype='object')"
      ]
     },
     "execution_count": 32,
     "metadata": {},
     "output_type": "execute_result"
    }
   ],
   "source": [
    "df1.columns"
   ]
  },
  {
   "cell_type": "code",
   "execution_count": 38,
   "metadata": {},
   "outputs": [
    {
     "data": {
      "text/plain": [
       "Index(['자격증', '성별', '학과', '신장(cm)', '몸무게(kg)', '10살 성적', '12살 성적', '대학성적',\n",
       "       '취미', '공부시간', '공부 시간대', '희망연봉', '학위만족도', '학위기반 취업고려(%)', '미디어 이용시간',\n",
       "       '왕복통학시간', '스트레스 지수', '자산상황', '아르바이트 여부'],\n",
       "      dtype='object')"
      ]
     },
     "execution_count": 38,
     "metadata": {},
     "output_type": "execute_result"
    }
   ],
   "source": [
    "df.columns"
   ]
  },
  {
   "cell_type": "code",
   "execution_count": 36,
   "metadata": {},
   "outputs": [
    {
     "data": {
      "text/plain": [
       "[0, 1, 2, 3, 4, 5]"
      ]
     },
     "execution_count": 36,
     "metadata": {},
     "output_type": "execute_result"
    }
   ],
   "source": [
    "sorted(df1['공부시간'].unique())"
   ]
  },
  {
   "cell_type": "code",
   "execution_count": 25,
   "metadata": {},
   "outputs": [
    {
     "data": {
      "text/plain": [
       "160.97435897435898"
      ]
     },
     "execution_count": 25,
     "metadata": {},
     "output_type": "execute_result"
    }
   ],
   "source": [
    "df1[df1['Gender'] == 'Male']['Height(CM)'].mean()"
   ]
  },
  {
   "cell_type": "code",
   "execution_count": 26,
   "metadata": {},
   "outputs": [
    {
     "name": "stdout",
     "output_type": "stream",
     "text": [
      "<class 'pandas.core.frame.DataFrame'>\n",
      "RangeIndex: 234 entries, 0 to 233\n",
      "Data columns (total 19 columns):\n",
      " #   Column                                                   Non-Null Count  Dtype  \n",
      "---  ------                                                   --------------  -----  \n",
      " 0   Certification Course                                     234 non-null    object \n",
      " 1   Gender                                                   234 non-null    object \n",
      " 2   Department                                               234 non-null    object \n",
      " 3   Height(CM)                                               234 non-null    float64\n",
      " 4   Weight(KG)                                               234 non-null    float64\n",
      " 5   10th Mark                                                234 non-null    float64\n",
      " 6   12th Mark                                                234 non-null    float64\n",
      " 7   college mark                                             234 non-null    float64\n",
      " 8   hobbies                                                  234 non-null    object \n",
      " 9   daily studing time                                       234 non-null    object \n",
      " 10  prefer to study in                                       234 non-null    object \n",
      " 11  salary expectation                                       234 non-null    int64  \n",
      " 12  Do you like your degree?                                 234 non-null    object \n",
      " 13  willingness to pursue a career based on their degree(%)  234 non-null    int64  \n",
      " 14  social medai & video                                     234 non-null    object \n",
      " 15  Travelling Time                                          234 non-null    object \n",
      " 16  Stress Level                                             234 non-null    object \n",
      " 17  Financial Status                                         234 non-null    object \n",
      " 18  part-time job                                            234 non-null    object \n",
      "dtypes: float64(5), int64(2), object(12)\n",
      "memory usage: 34.9+ KB\n"
     ]
    }
   ],
   "source": [
    "df1.info()"
   ]
  },
  {
   "cell_type": "code",
   "execution_count": 27,
   "metadata": {},
   "outputs": [
    {
     "data": {
      "text/html": [
       "<div>\n",
       "<style scoped>\n",
       "    .dataframe tbody tr th:only-of-type {\n",
       "        vertical-align: middle;\n",
       "    }\n",
       "\n",
       "    .dataframe tbody tr th {\n",
       "        vertical-align: top;\n",
       "    }\n",
       "\n",
       "    .dataframe thead th {\n",
       "        text-align: right;\n",
       "    }\n",
       "</style>\n",
       "<table border=\"1\" class=\"dataframe\">\n",
       "  <thead>\n",
       "    <tr style=\"text-align: right;\">\n",
       "      <th></th>\n",
       "      <th>Height(CM)</th>\n",
       "      <th>Weight(KG)</th>\n",
       "      <th>10th Mark</th>\n",
       "      <th>12th Mark</th>\n",
       "      <th>college mark</th>\n",
       "      <th>salary expectation</th>\n",
       "      <th>willingness to pursue a career based on their degree(%)</th>\n",
       "    </tr>\n",
       "  </thead>\n",
       "  <tbody>\n",
       "    <tr>\n",
       "      <th>count</th>\n",
       "      <td>234.000000</td>\n",
       "      <td>234.000000</td>\n",
       "      <td>234.000000</td>\n",
       "      <td>234.000000</td>\n",
       "      <td>234.000000</td>\n",
       "      <td>2.340000e+02</td>\n",
       "      <td>234.000000</td>\n",
       "    </tr>\n",
       "    <tr>\n",
       "      <th>mean</th>\n",
       "      <td>158.055556</td>\n",
       "      <td>60.884188</td>\n",
       "      <td>76.807265</td>\n",
       "      <td>68.689444</td>\n",
       "      <td>70.599274</td>\n",
       "      <td>3.253502e+04</td>\n",
       "      <td>69.444444</td>\n",
       "    </tr>\n",
       "    <tr>\n",
       "      <th>std</th>\n",
       "      <td>19.077016</td>\n",
       "      <td>14.876642</td>\n",
       "      <td>13.067806</td>\n",
       "      <td>10.951898</td>\n",
       "      <td>15.733020</td>\n",
       "      <td>1.115502e+05</td>\n",
       "      <td>21.129864</td>\n",
       "    </tr>\n",
       "    <tr>\n",
       "      <th>min</th>\n",
       "      <td>90.000000</td>\n",
       "      <td>20.000000</td>\n",
       "      <td>7.400000</td>\n",
       "      <td>45.000000</td>\n",
       "      <td>1.000000</td>\n",
       "      <td>0.000000e+00</td>\n",
       "      <td>0.000000</td>\n",
       "    </tr>\n",
       "    <tr>\n",
       "      <th>25%</th>\n",
       "      <td>152.000000</td>\n",
       "      <td>50.000000</td>\n",
       "      <td>70.000000</td>\n",
       "      <td>60.000000</td>\n",
       "      <td>60.000000</td>\n",
       "      <td>1.500000e+04</td>\n",
       "      <td>50.000000</td>\n",
       "    </tr>\n",
       "    <tr>\n",
       "      <th>50%</th>\n",
       "      <td>160.000000</td>\n",
       "      <td>60.000000</td>\n",
       "      <td>80.000000</td>\n",
       "      <td>69.000000</td>\n",
       "      <td>70.000000</td>\n",
       "      <td>2.000000e+04</td>\n",
       "      <td>75.000000</td>\n",
       "    </tr>\n",
       "    <tr>\n",
       "      <th>75%</th>\n",
       "      <td>170.000000</td>\n",
       "      <td>70.000000</td>\n",
       "      <td>86.375000</td>\n",
       "      <td>76.000000</td>\n",
       "      <td>80.000000</td>\n",
       "      <td>2.500000e+04</td>\n",
       "      <td>75.000000</td>\n",
       "    </tr>\n",
       "    <tr>\n",
       "      <th>max</th>\n",
       "      <td>192.000000</td>\n",
       "      <td>106.000000</td>\n",
       "      <td>98.000000</td>\n",
       "      <td>94.000000</td>\n",
       "      <td>100.000000</td>\n",
       "      <td>1.500000e+06</td>\n",
       "      <td>100.000000</td>\n",
       "    </tr>\n",
       "  </tbody>\n",
       "</table>\n",
       "</div>"
      ],
      "text/plain": [
       "       Height(CM)  Weight(KG)   10th Mark   12th Mark  college mark  \\\n",
       "count  234.000000  234.000000  234.000000  234.000000    234.000000   \n",
       "mean   158.055556   60.884188   76.807265   68.689444     70.599274   \n",
       "std     19.077016   14.876642   13.067806   10.951898     15.733020   \n",
       "min     90.000000   20.000000    7.400000   45.000000      1.000000   \n",
       "25%    152.000000   50.000000   70.000000   60.000000     60.000000   \n",
       "50%    160.000000   60.000000   80.000000   69.000000     70.000000   \n",
       "75%    170.000000   70.000000   86.375000   76.000000     80.000000   \n",
       "max    192.000000  106.000000   98.000000   94.000000    100.000000   \n",
       "\n",
       "       salary expectation  \\\n",
       "count        2.340000e+02   \n",
       "mean         3.253502e+04   \n",
       "std          1.115502e+05   \n",
       "min          0.000000e+00   \n",
       "25%          1.500000e+04   \n",
       "50%          2.000000e+04   \n",
       "75%          2.500000e+04   \n",
       "max          1.500000e+06   \n",
       "\n",
       "       willingness to pursue a career based on their degree(%)  \n",
       "count                                         234.000000        \n",
       "mean                                           69.444444        \n",
       "std                                            21.129864        \n",
       "min                                             0.000000        \n",
       "25%                                            50.000000        \n",
       "50%                                            75.000000        \n",
       "75%                                            75.000000        \n",
       "max                                           100.000000        "
      ]
     },
     "execution_count": 27,
     "metadata": {},
     "output_type": "execute_result"
    }
   ],
   "source": [
    "df1.describe()"
   ]
  },
  {
   "cell_type": "code",
   "execution_count": null,
   "metadata": {},
   "outputs": [],
   "source": []
  }
 ],
 "metadata": {
  "kernelspec": {
   "display_name": "app_dash",
   "language": "python",
   "name": "python3"
  },
  "language_info": {
   "codemirror_mode": {
    "name": "ipython",
    "version": 3
   },
   "file_extension": ".py",
   "mimetype": "text/x-python",
   "name": "python",
   "nbconvert_exporter": "python",
   "pygments_lexer": "ipython3",
   "version": "3.9.16"
  },
  "orig_nbformat": 4
 },
 "nbformat": 4,
 "nbformat_minor": 2
}
